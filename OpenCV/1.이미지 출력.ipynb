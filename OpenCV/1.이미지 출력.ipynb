{
 "cells": [
  {
   "cell_type": "markdown",
   "id": "a0671cb2-5482-4098-b171-a76753485823",
   "metadata": {},
   "source": [
    "# 환경설정\n",
    "Anaconda prompt에서 다음 명령 수행\n",
    ">pip install opencv-python"
   ]
  },
  {
   "cell_type": "code",
   "execution_count": 1,
   "id": "527c16af-6ec1-481b-b696-4eb3ae7e3d38",
   "metadata": {},
   "outputs": [
    {
     "name": "stdout",
     "output_type": "stream",
     "text": [
      "Python 3.11.7\n"
     ]
    }
   ],
   "source": [
    "!python --version"
   ]
  },
  {
   "cell_type": "code",
   "execution_count": 2,
   "id": "b8adf9a6-9bb9-4282-85ff-a07e31cf8fc7",
   "metadata": {},
   "outputs": [
    {
     "data": {
      "text/plain": [
       "'4.9.0'"
      ]
     },
     "execution_count": 2,
     "metadata": {},
     "output_type": "execute_result"
    }
   ],
   "source": [
    "import cv2\n",
    "cv2.__version__"
   ]
  },
  {
   "cell_type": "markdown",
   "id": "ea8d54ff-1005-4520-a13a-e8278dc48f1c",
   "metadata": {},
   "source": [
    "# 1.이미지 출력"
   ]
  },
  {
   "cell_type": "code",
   "execution_count": 9,
   "id": "89daa52d-ba4b-4a6d-b0c2-09f0f2a053fc",
   "metadata": {
    "scrolled": true
   },
   "outputs": [
    {
     "name": "stdout",
     "output_type": "stream",
     "text": [
      "113\n"
     ]
    }
   ],
   "source": [
    "import cv2\n",
    "img  = cv2.imread('image.jpg') #해당경로 파일 불러오기\n",
    "cv2.imshow('img' , img) #img 라는 창에 img 표시\n",
    "key = cv2.waitKey(5000) #지정된 시간동안 키 입력 대기\n",
    "print(key)\n",
    "cv2.destroyAllWindows() #모든 창 닫기"
   ]
  },
  {
   "cell_type": "markdown",
   "id": "f20036f8-9053-4951-8333-258d7488d184",
   "metadata": {},
   "source": [
    "## 읽기 옵션\n",
    "1. cv2.IMREAD_COLOR 컬러 이미지 투명 영역은 무시(기본값)\n",
    "2. cv2.IMREAD_GRAYSCALE 흑백 이미지\n",
    "3. cv2.IMREAD_UNCHANED 투명 영역까지 포함"
   ]
  },
  {
   "cell_type": "markdown",
   "id": "ef1233aa-6145-4f27-9398-037188921e50",
   "metadata": {},
   "source": [
    "import cv2\n",
    "img_color = cv2.imread('image.jpg' , cv2.IMREAD_COLOR)\n",
    "img_gray = cv2.imread('image.jpg' , cv2.IMREAD_GRAYSCALE)\n",
    "img_unchanged = cv2.imread('image.jpg' , cv2.IMREAD_UNCHANGED)\n",
    "\n",
    "cv2.imshow('img_color', img_color)\n",
    "cv2.imshow('img_gary', img_gray)\n",
    "cv2.imshow('img_unchanged', img_unchanged)\n",
    "cv2.waitKey(0)\n",
    "cv2.destroyAllWindows()"
   ]
  },
  {
   "cell_type": "markdown",
   "id": "9d987d86-9b49-42b2-8301-a481f1aa3002",
   "metadata": {},
   "source": [
    "# shape\n",
    "이미지 height, width channel 정보"
   ]
  },
  {
   "cell_type": "code",
   "execution_count": 16,
   "id": "48812134-817d-4ff0-8a3a-ea7be0b91983",
   "metadata": {},
   "outputs": [
    {
     "data": {
      "text/plain": [
       "(391, 640, 3)"
      ]
     },
     "execution_count": 16,
     "metadata": {},
     "output_type": "execute_result"
    }
   ],
   "source": [
    "import cv2\n",
    "img = cv2.imread('image.jpg')\n",
    "img.shape #이미지 높이 넓이 채"
   ]
  }
 ],
 "metadata": {
  "kernelspec": {
   "display_name": "Python 3 (ipykernel)",
   "language": "python",
   "name": "python3"
  },
  "language_info": {
   "codemirror_mode": {
    "name": "ipython",
    "version": 3
   },
   "file_extension": ".py",
   "mimetype": "text/x-python",
   "name": "python",
   "nbconvert_exporter": "python",
   "pygments_lexer": "ipython3",
   "version": "3.11.7"
  }
 },
 "nbformat": 4,
 "nbformat_minor": 5
}
